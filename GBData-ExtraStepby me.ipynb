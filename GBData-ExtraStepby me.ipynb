{
 "cells": [
  {
   "cell_type": "markdown",
   "id": "515abe87-0dce-460c-a1a1-60df706787ec",
   "metadata": {},
   "source": [
    "<h1> GIS in Engineering </h1>\n",
    "<h2> Washemuzzaman Lajuk</h2>"
   ]
  },
  {
   "cell_type": "code",
   "execution_count": 4,
   "id": "c525e0ef-96b2-4823-83ad-e51f799a8924",
   "metadata": {
    "jupyter": {
     "source_hidden": true
    }
   },
   "outputs": [
    {
     "name": "stdout",
     "output_type": "stream",
     "text": [
      "os library loaded!\n"
     ]
    }
   ],
   "source": [
    "#Import from Libraries\n",
    "import os\n",
    "import pandas as pd\n",
    "print('os library loaded!')"
   ]
  },
  {
   "cell_type": "code",
   "execution_count": 13,
   "id": "91d8de5f-3460-4d2f-b924-a0e54d5b9a80",
   "metadata": {},
   "outputs": [],
   "source": [
    "#This is the folder where my data or files are stored\n",
    "path = \"/Users/washemuzzamanlajuk/Desktop/GIS/GWDBDownload/GWDBDownload\" \n",
    "#change directory\n",
    "os.chdir(path)"
   ]
  },
  {
   "cell_type": "code",
   "execution_count": 6,
   "id": "c89e065c-cce1-4653-aca2-4c29ae9eb12c",
   "metadata": {},
   "outputs": [],
   "source": [
    "#filename\n",
    "fname=\"WellMain.txt\"\n",
    "#Collecting data to python memory\n",
    "wmain=pd.read_csv(fname,sep='|', encoding=\"ISO-8859-1\", low_memory=False)"
   ]
  },
  {
   "cell_type": "code",
   "execution_count": 14,
   "id": "72b9a2aa-ce99-4b10-9718-6e0c88836a13",
   "metadata": {},
   "outputs": [
    {
     "data": {
      "text/html": [
       "<div>\n",
       "<style scoped>\n",
       "    .dataframe tbody tr th:only-of-type {\n",
       "        vertical-align: middle;\n",
       "    }\n",
       "\n",
       "    .dataframe tbody tr th {\n",
       "        vertical-align: top;\n",
       "    }\n",
       "\n",
       "    .dataframe thead th {\n",
       "        text-align: right;\n",
       "    }\n",
       "</style>\n",
       "<table border=\"1\" class=\"dataframe\">\n",
       "  <thead>\n",
       "    <tr style=\"text-align: right;\">\n",
       "      <th></th>\n",
       "      <th>StateWellNumber</th>\n",
       "      <th>County</th>\n",
       "      <th>RiverBasin</th>\n",
       "      <th>GMA</th>\n",
       "      <th>RWPA</th>\n",
       "      <th>GCD</th>\n",
       "      <th>AquiferCode</th>\n",
       "      <th>AquiferCodeDescription</th>\n",
       "      <th>AquiferId</th>\n",
       "      <th>Aquifer</th>\n",
       "      <th>...</th>\n",
       "      <th>WellReportTrackingNumber</th>\n",
       "      <th>PluggingReportTrackingNumber</th>\n",
       "      <th>USGSSiteNumber</th>\n",
       "      <th>TCEQSourceId</th>\n",
       "      <th>GCDWellNumber</th>\n",
       "      <th>OwnerWellNumber</th>\n",
       "      <th>OtherWellNumber</th>\n",
       "      <th>PreviousStateWellNumber</th>\n",
       "      <th>CreatedDate</th>\n",
       "      <th>LastUpdateDate</th>\n",
       "    </tr>\n",
       "  </thead>\n",
       "  <tbody>\n",
       "    <tr>\n",
       "      <th>0</th>\n",
       "      <td>140301</td>\n",
       "      <td>Dallam</td>\n",
       "      <td>Canadian</td>\n",
       "      <td>1</td>\n",
       "      <td>A - Panhandle</td>\n",
       "      <td>North Plains GCD</td>\n",
       "      <td>121OGDP</td>\n",
       "      <td>Ogallala Formation, Dakota Group and Purgatoir...</td>\n",
       "      <td>58</td>\n",
       "      <td>Ogallala/Rita Blanca</td>\n",
       "      <td>...</td>\n",
       "      <td>NaN</td>\n",
       "      <td>NaN</td>\n",
       "      <td>NaN</td>\n",
       "      <td>NaN</td>\n",
       "      <td>NaN</td>\n",
       "      <td>1</td>\n",
       "      <td>NaN</td>\n",
       "      <td>NaN</td>\n",
       "      <td>2004-05-18</td>\n",
       "      <td>2025-05-13</td>\n",
       "    </tr>\n",
       "    <tr>\n",
       "      <th>1</th>\n",
       "      <td>140302</td>\n",
       "      <td>Dallam</td>\n",
       "      <td>Canadian</td>\n",
       "      <td>1</td>\n",
       "      <td>A - Panhandle</td>\n",
       "      <td>North Plains GCD</td>\n",
       "      <td>121OGDP</td>\n",
       "      <td>Ogallala Formation, Dakota Group and Purgatoir...</td>\n",
       "      <td>58</td>\n",
       "      <td>Ogallala/Rita Blanca</td>\n",
       "      <td>...</td>\n",
       "      <td>NaN</td>\n",
       "      <td>NaN</td>\n",
       "      <td>NaN</td>\n",
       "      <td>NaN</td>\n",
       "      <td>NaN</td>\n",
       "      <td>1</td>\n",
       "      <td>NaN</td>\n",
       "      <td>NaN</td>\n",
       "      <td>2003-12-23</td>\n",
       "      <td>2022-12-02</td>\n",
       "    </tr>\n",
       "    <tr>\n",
       "      <th>2</th>\n",
       "      <td>140601</td>\n",
       "      <td>Dallam</td>\n",
       "      <td>Canadian</td>\n",
       "      <td>1</td>\n",
       "      <td>A - Panhandle</td>\n",
       "      <td>North Plains GCD</td>\n",
       "      <td>211DKOP</td>\n",
       "      <td>Dakota Group and Purgatoire Formation</td>\n",
       "      <td>23</td>\n",
       "      <td>Rita Blanca</td>\n",
       "      <td>...</td>\n",
       "      <td>NaN</td>\n",
       "      <td>NaN</td>\n",
       "      <td>NaN</td>\n",
       "      <td>NaN</td>\n",
       "      <td>NaN</td>\n",
       "      <td>NaN</td>\n",
       "      <td>NaN</td>\n",
       "      <td>NaN</td>\n",
       "      <td>2006-12-01</td>\n",
       "      <td>2020-01-16</td>\n",
       "    </tr>\n",
       "    <tr>\n",
       "      <th>3</th>\n",
       "      <td>140901</td>\n",
       "      <td>Dallam</td>\n",
       "      <td>Canadian</td>\n",
       "      <td>1</td>\n",
       "      <td>A - Panhandle</td>\n",
       "      <td>North Plains GCD</td>\n",
       "      <td>121OGLL</td>\n",
       "      <td>Ogallala Formation</td>\n",
       "      <td>21</td>\n",
       "      <td>Ogallala</td>\n",
       "      <td>...</td>\n",
       "      <td>NaN</td>\n",
       "      <td>NaN</td>\n",
       "      <td>NaN</td>\n",
       "      <td>NaN</td>\n",
       "      <td>NaN</td>\n",
       "      <td>NaN</td>\n",
       "      <td>NaN</td>\n",
       "      <td>NaN</td>\n",
       "      <td>1966-08-30</td>\n",
       "      <td>2018-03-27</td>\n",
       "    </tr>\n",
       "    <tr>\n",
       "      <th>4</th>\n",
       "      <td>140902</td>\n",
       "      <td>Dallam</td>\n",
       "      <td>Canadian</td>\n",
       "      <td>1</td>\n",
       "      <td>A - Panhandle</td>\n",
       "      <td>North Plains GCD</td>\n",
       "      <td>121OGLD</td>\n",
       "      <td>Ogallala Formation and Dakota Group</td>\n",
       "      <td>58</td>\n",
       "      <td>Ogallala/Rita Blanca</td>\n",
       "      <td>...</td>\n",
       "      <td>NaN</td>\n",
       "      <td>NaN</td>\n",
       "      <td>NaN</td>\n",
       "      <td>NaN</td>\n",
       "      <td>NaN</td>\n",
       "      <td>NaN</td>\n",
       "      <td>NaN</td>\n",
       "      <td>NaN</td>\n",
       "      <td>2006-10-01</td>\n",
       "      <td>2020-01-16</td>\n",
       "    </tr>\n",
       "  </tbody>\n",
       "</table>\n",
       "<p>5 rows × 55 columns</p>\n",
       "</div>"
      ],
      "text/plain": [
       "   StateWellNumber  County RiverBasin  GMA           RWPA               GCD  \\\n",
       "0           140301  Dallam   Canadian    1  A - Panhandle  North Plains GCD   \n",
       "1           140302  Dallam   Canadian    1  A - Panhandle  North Plains GCD   \n",
       "2           140601  Dallam   Canadian    1  A - Panhandle  North Plains GCD   \n",
       "3           140901  Dallam   Canadian    1  A - Panhandle  North Plains GCD   \n",
       "4           140902  Dallam   Canadian    1  A - Panhandle  North Plains GCD   \n",
       "\n",
       "  AquiferCode                             AquiferCodeDescription  AquiferId  \\\n",
       "0     121OGDP  Ogallala Formation, Dakota Group and Purgatoir...         58   \n",
       "1     121OGDP  Ogallala Formation, Dakota Group and Purgatoir...         58   \n",
       "2     211DKOP              Dakota Group and Purgatoire Formation         23   \n",
       "3     121OGLL                                 Ogallala Formation         21   \n",
       "4     121OGLD                Ogallala Formation and Dakota Group         58   \n",
       "\n",
       "                Aquifer  ... WellReportTrackingNumber  \\\n",
       "0  Ogallala/Rita Blanca  ...                      NaN   \n",
       "1  Ogallala/Rita Blanca  ...                      NaN   \n",
       "2           Rita Blanca  ...                      NaN   \n",
       "3              Ogallala  ...                      NaN   \n",
       "4  Ogallala/Rita Blanca  ...                      NaN   \n",
       "\n",
       "  PluggingReportTrackingNumber  USGSSiteNumber  TCEQSourceId  GCDWellNumber  \\\n",
       "0                          NaN             NaN           NaN            NaN   \n",
       "1                          NaN             NaN           NaN            NaN   \n",
       "2                          NaN             NaN           NaN            NaN   \n",
       "3                          NaN             NaN           NaN            NaN   \n",
       "4                          NaN             NaN           NaN            NaN   \n",
       "\n",
       "   OwnerWellNumber  OtherWellNumber  PreviousStateWellNumber  CreatedDate  \\\n",
       "0                1              NaN                      NaN   2004-05-18   \n",
       "1                1              NaN                      NaN   2003-12-23   \n",
       "2              NaN              NaN                      NaN   2006-12-01   \n",
       "3              NaN              NaN                      NaN   1966-08-30   \n",
       "4              NaN              NaN                      NaN   2006-10-01   \n",
       "\n",
       "   LastUpdateDate  \n",
       "0      2025-05-13  \n",
       "1      2022-12-02  \n",
       "2      2020-01-16  \n",
       "3      2018-03-27  \n",
       "4      2020-01-16  \n",
       "\n",
       "[5 rows x 55 columns]"
      ]
     },
     "execution_count": 14,
     "metadata": {},
     "output_type": "execute_result"
    }
   ],
   "source": [
    "#Shows first 5 rows\n",
    "wmain.head()"
   ]
  },
  {
   "cell_type": "code",
   "execution_count": 15,
   "id": "5566d7f5-5111-4c1f-bfb1-78adce401f1f",
   "metadata": {},
   "outputs": [
    {
     "data": {
      "text/plain": [
       "Index(['StateWellNumber', 'County', 'RiverBasin', 'GMA', 'RWPA', 'GCD',\n",
       "       'AquiferCode', 'AquiferCodeDescription', 'AquiferId', 'Aquifer',\n",
       "       'Classification', 'AquiferPickMethod', 'LatitudeDD', 'Dlat', 'Mlat',\n",
       "       'Slat', 'LongitudeDD', 'Dlong', 'Mlong', 'Slong', 'CoordinateSource',\n",
       "       'Owner', 'Driller', 'WellDepth', 'DepthSource', 'LandSurfaceElevation',\n",
       "       'LandSurfaceElevationMethod', 'DrillingStartDate', 'DrillingMonth',\n",
       "       'DrillingDay', 'DrillingYear', 'DrillingEndDate', 'DrillingMethod',\n",
       "       'BoreHoleCompletion', 'WellType', 'Pump', 'PowerType', 'WellUse',\n",
       "       'WaterLevelStatus', 'CurrentWaterLevelWell', 'WaterQualityAvailable',\n",
       "       'CurrentWaterQualityWell', 'ReportingAgency', 'OtherDataAvailable',\n",
       "       'Remarks', 'WellReportTrackingNumber', 'PluggingReportTrackingNumber',\n",
       "       'USGSSiteNumber', 'TCEQSourceId', 'GCDWellNumber', 'OwnerWellNumber',\n",
       "       'OtherWellNumber', 'PreviousStateWellNumber', 'CreatedDate',\n",
       "       'LastUpdateDate'],\n",
       "      dtype='object')"
      ]
     },
     "execution_count": 15,
     "metadata": {},
     "output_type": "execute_result"
    }
   ],
   "source": [
    "# lists the column names\n",
    "wmain.columns"
   ]
  },
  {
   "cell_type": "code",
   "execution_count": 9,
   "id": "a4dce461-e57a-4e0d-86c8-9bdc8a1f2436",
   "metadata": {},
   "outputs": [],
   "source": [
    "cols = ['StateWellNumber', 'County', 'Aquifer', 'LatitudeDD', 'LongitudeDD', 'LandSurfaceElevation', 'WellDepth', 'WellUse']\n",
    "aquifern = \"Gulf Coast\""
   ]
  },
  {
   "cell_type": "code",
   "execution_count": 10,
   "id": "6f25c437-025f-467a-b9f0-07a49c1a60b2",
   "metadata": {},
   "outputs": [],
   "source": [
    "GCdat = wmain.loc[wmain[\"Aquifer\"] == aquifern, cols]"
   ]
  },
  {
   "cell_type": "code",
   "execution_count": 11,
   "id": "343f516a-4932-4176-892b-d9d51211a676",
   "metadata": {},
   "outputs": [
    {
     "data": {
      "text/html": [
       "<div>\n",
       "<style scoped>\n",
       "    .dataframe tbody tr th:only-of-type {\n",
       "        vertical-align: middle;\n",
       "    }\n",
       "\n",
       "    .dataframe tbody tr th {\n",
       "        vertical-align: top;\n",
       "    }\n",
       "\n",
       "    .dataframe thead th {\n",
       "        text-align: right;\n",
       "    }\n",
       "</style>\n",
       "<table border=\"1\" class=\"dataframe\">\n",
       "  <thead>\n",
       "    <tr style=\"text-align: right;\">\n",
       "      <th></th>\n",
       "      <th>StateWellNumber</th>\n",
       "      <th>County</th>\n",
       "      <th>Aquifer</th>\n",
       "      <th>LatitudeDD</th>\n",
       "      <th>LongitudeDD</th>\n",
       "      <th>LandSurfaceElevation</th>\n",
       "      <th>WellDepth</th>\n",
       "      <th>WellUse</th>\n",
       "    </tr>\n",
       "  </thead>\n",
       "  <tbody>\n",
       "    <tr>\n",
       "      <th>56035</th>\n",
       "      <td>3649801</td>\n",
       "      <td>Jasper</td>\n",
       "      <td>Gulf Coast</td>\n",
       "      <td>31.140278</td>\n",
       "      <td>-93.938611</td>\n",
       "      <td>242.0</td>\n",
       "      <td>14.0</td>\n",
       "      <td>Unused</td>\n",
       "    </tr>\n",
       "    <tr>\n",
       "      <th>56048</th>\n",
       "      <td>3650701</td>\n",
       "      <td>Newton</td>\n",
       "      <td>Gulf Coast</td>\n",
       "      <td>31.151945</td>\n",
       "      <td>-93.859445</td>\n",
       "      <td>275.0</td>\n",
       "      <td>28.0</td>\n",
       "      <td>Domestic</td>\n",
       "    </tr>\n",
       "    <tr>\n",
       "      <th>56049</th>\n",
       "      <td>3650702</td>\n",
       "      <td>Newton</td>\n",
       "      <td>Gulf Coast</td>\n",
       "      <td>31.156667</td>\n",
       "      <td>-93.847778</td>\n",
       "      <td>260.0</td>\n",
       "      <td>19.0</td>\n",
       "      <td>Domestic</td>\n",
       "    </tr>\n",
       "    <tr>\n",
       "      <th>56050</th>\n",
       "      <td>3650801</td>\n",
       "      <td>Newton</td>\n",
       "      <td>Gulf Coast</td>\n",
       "      <td>31.151667</td>\n",
       "      <td>-93.808334</td>\n",
       "      <td>300.0</td>\n",
       "      <td>22.0</td>\n",
       "      <td>Domestic</td>\n",
       "    </tr>\n",
       "    <tr>\n",
       "      <th>56051</th>\n",
       "      <td>3650901</td>\n",
       "      <td>Newton</td>\n",
       "      <td>Gulf Coast</td>\n",
       "      <td>31.166112</td>\n",
       "      <td>-93.765556</td>\n",
       "      <td>240.0</td>\n",
       "      <td>12.0</td>\n",
       "      <td>Domestic</td>\n",
       "    </tr>\n",
       "  </tbody>\n",
       "</table>\n",
       "</div>"
      ],
      "text/plain": [
       "       StateWellNumber  County     Aquifer  LatitudeDD  LongitudeDD  \\\n",
       "56035          3649801  Jasper  Gulf Coast   31.140278   -93.938611   \n",
       "56048          3650701  Newton  Gulf Coast   31.151945   -93.859445   \n",
       "56049          3650702  Newton  Gulf Coast   31.156667   -93.847778   \n",
       "56050          3650801  Newton  Gulf Coast   31.151667   -93.808334   \n",
       "56051          3650901  Newton  Gulf Coast   31.166112   -93.765556   \n",
       "\n",
       "       LandSurfaceElevation  WellDepth   WellUse  \n",
       "56035                 242.0       14.0    Unused  \n",
       "56048                 275.0       28.0  Domestic  \n",
       "56049                 260.0       19.0  Domestic  \n",
       "56050                 300.0       22.0  Domestic  \n",
       "56051                 240.0       12.0  Domestic  "
      ]
     },
     "execution_count": 11,
     "metadata": {},
     "output_type": "execute_result"
    }
   ],
   "source": [
    "GCdat.head()"
   ]
  },
  {
   "cell_type": "code",
   "execution_count": 12,
   "id": "642a330e-dea6-424e-af8d-1894bda3d5e3",
   "metadata": {},
   "outputs": [],
   "source": [
    "GCdat.to_csv(\"GCWells.csv\", index=False)"
   ]
  },
  {
   "cell_type": "code",
   "execution_count": 18,
   "id": "70326941-9004-4b6d-b0db-c2f32cc298b2",
   "metadata": {},
   "outputs": [],
   "source": [
    "fname=\"WaterQualityMajor.txt\"\n",
    "wq = pd.read_csv(\"WaterQualityMajor.txt\", sep=\"|\", encoding=\"ISO-8859-1\", low_memory=False)"
   ]
  },
  {
   "cell_type": "code",
   "execution_count": 19,
   "id": "f1b3569e-235b-47ef-89f6-15b21e780b2a",
   "metadata": {},
   "outputs": [],
   "source": [
    "wq_gc = wq[wq[\"StateWellNumber\"].isin(GCdat[\"StateWellNumber\"])]\n"
   ]
  },
  {
   "cell_type": "code",
   "execution_count": 20,
   "id": "d82194e7-cf53-4571-bf53-f8c4f9d6f01b",
   "metadata": {},
   "outputs": [],
   "source": [
    "wq_gc = wq_gc[[\"StateWellNumber\", \"SampleDate\", \"ParameterCode\", \"ParameterValue\"]]\n"
   ]
  },
  {
   "cell_type": "code",
   "execution_count": 21,
   "id": "d93012de-8482-4201-ad02-fdfe5ff399f8",
   "metadata": {},
   "outputs": [],
   "source": [
    "contaminants = [\"EC\", \"As\"]   # replace with actual codes from your dataset\n",
    "wq_subset = wq_gc[wq_gc[\"ParameterCode\"].isin(contaminants)]"
   ]
  },
  {
   "cell_type": "code",
   "execution_count": 24,
   "id": "19c9245a-43be-49ba-b935-965df92a0b2e",
   "metadata": {},
   "outputs": [],
   "source": [
    "wq_avg = (wq_subset\n",
    "          .groupby([\"StateWellNumber\", \"ParameterCode\"], as_index=False)\n",
    "          [\"ParameterValue\"].mean())"
   ]
  },
  {
   "cell_type": "code",
   "execution_count": 25,
   "id": "7669724d-a5d7-425e-898f-bd7abb39cb73",
   "metadata": {},
   "outputs": [],
   "source": [
    "wq_avg.to_csv(\"GulfCoast_WQ_Averages.csv\", index=False)\n",
    "GCdat.to_csv(\"GulfCoast_Wells.csv\", index=False)\n"
   ]
  },
  {
   "cell_type": "code",
   "execution_count": null,
   "id": "6ad8fedd-c71c-4c50-be6a-bde54fe8cdc0",
   "metadata": {},
   "outputs": [],
   "source": []
  }
 ],
 "metadata": {
  "kernelspec": {
   "display_name": "Python 3 (ipykernel)",
   "language": "python",
   "name": "python3"
  },
  "language_info": {
   "codemirror_mode": {
    "name": "ipython",
    "version": 3
   },
   "file_extension": ".py",
   "mimetype": "text/x-python",
   "name": "python",
   "nbconvert_exporter": "python",
   "pygments_lexer": "ipython3",
   "version": "3.12.5"
  }
 },
 "nbformat": 4,
 "nbformat_minor": 5
}
